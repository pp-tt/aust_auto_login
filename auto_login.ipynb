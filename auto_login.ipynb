{
 "cells": [
  {
   "cell_type": "code",
   "execution_count": 83,
   "id": "4a673d96",
   "metadata": {},
   "outputs": [
    {
     "name": "stdout",
     "output_type": "stream",
     "text": [
      "Failed\n",
      "Successed\n"
     ]
    }
   ],
   "source": [
    "import requests\n",
    "\n",
    "def is_connect():\n",
    "    try:\n",
    "        res = requests.get('http://10.255.0.19/', timeout=2).headers['Content-Length']\n",
    "        return True if res == '3205' else False\n",
    "    except:\n",
    "        return True\n",
    "\n",
    "# 2:电信  4:移动\n",
    "accounts = {\n",
    "    '2_**********' : \"*******\",\n",
    "    '4_**********' : \"*******\"\n",
    "}\n",
    "\n",
    "\n",
    "for ac, ps in accounts.items():\n",
    "    mode = 'aust' if ac.split('_')[0] == \"2\" else 'cmcc'  # 2：电信 4：移动\n",
    "    url = f\"http://10.255.0.19/drcom/login?callback=dr1003&DDDDD={ ac.split('_')[1] }%40{mode}&upass={ ps }&0MKKey=123456&R1=0&R3=0&R6=0&para=00\"\n",
    "    if not is_connect():\n",
    "        requests.get(url)\n",
    "    else:\n",
    "        print(\"Successed\")\n",
    "        break\n",
    "    print(\"Failed\")\n"
   ]
  }
 ],
 "metadata": {
  "kernelspec": {
   "display_name": "Python 3 (ipykernel)",
   "language": "python",
   "name": "python3"
  },
  "language_info": {
   "codemirror_mode": {
    "name": "ipython",
    "version": 3
   },
   "file_extension": ".py",
   "mimetype": "text/x-python",
   "name": "python",
   "nbconvert_exporter": "python",
   "pygments_lexer": "ipython3",
   "version": "3.9.7"
  },
  "toc": {
   "base_numbering": 1,
   "nav_menu": {},
   "number_sections": true,
   "sideBar": true,
   "skip_h1_title": false,
   "title_cell": "Table of Contents",
   "title_sidebar": "Contents",
   "toc_cell": false,
   "toc_position": {},
   "toc_section_display": true,
   "toc_window_display": false
  },
  "varInspector": {
   "cols": {
    "lenName": 16,
    "lenType": 16,
    "lenVar": 40
   },
   "kernels_config": {
    "python": {
     "delete_cmd_postfix": "",
     "delete_cmd_prefix": "del ",
     "library": "var_list.py",
     "varRefreshCmd": "print(var_dic_list())"
    },
    "r": {
     "delete_cmd_postfix": ") ",
     "delete_cmd_prefix": "rm(",
     "library": "var_list.r",
     "varRefreshCmd": "cat(var_dic_list()) "
    }
   },
   "types_to_exclude": [
    "module",
    "function",
    "builtin_function_or_method",
    "instance",
    "_Feature"
   ],
   "window_display": false
  }
 },
 "nbformat": 4,
 "nbformat_minor": 5
}
