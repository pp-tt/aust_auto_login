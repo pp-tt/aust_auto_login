{
 "cells": [
  {
   "cell_type": "code",
   "execution_count": 83,
   "id": "4a673d96",
   "metadata": {},
   "outputs": [
    {
     "name": "stdout",
     "output_type": "stream",
     "text": [
      "Failed\n",
      "Successed\n"
     ]
    }
   ],
   "source": [
    "import requests\n",
    "\n",
    "def is_connect():\n",
    "    try:\n",
    "        res = requests.get('http://10.255.0.19/', timeout=2).headers['Content-Length']\n",
    "        return True if res == '3205' else False\n",
    "    except:\n",
    "        return True\n",
    "\n",
    "# 2:电信  4:移动\n",
    "accounts = {\n",
    "    '2_2018305555' : \"084617\",\n",
    "    '4_2021201263' : \"0716383\",\n",
    "    '2_2017305407' : \"962406\",\n",
    "    '2_2017305395' : \"404585\",\n",
    "    '2_2017305412' : \"320361\"\n",
    "}\n",
    "\n",
    "\n",
    "for ac, ps in accounts.items():\n",
    "    mode = 'aust' if ac.split('_')[0] == \"2\" else 'cmcc'  # 2：电信 4：移动\n",
    "    url = f\"http://10.255.0.19/drcom/login?callback=dr1003&DDDDD={ ac.split('_')[1] }%40{mode}&upass={ ps }&0MKKey=123456&R1=0&R3=0&R6=0&para=00\"\n",
    "    if not is_connect():\n",
    "        requests.get(url)\n",
    "    else:\n",
    "        print(\"Successed\")\n",
    "        break\n",
    "    print(\"Failed\")\n"
   ]
  },
  {
   "cell_type": "code",
   "execution_count": 5,
   "id": "670d6233",
   "metadata": {},
   "outputs": [
    {
     "ename": "SyntaxError",
     "evalue": "invalid syntax (1636605685.py, line 1)",
     "output_type": "error",
     "traceback": [
      "\u001b[0;36m  File \u001b[0;32m\"/var/folders/lb/ybt01kn1155_dwfzwfs9l0wh0000gn/T/ipykernel_19831/1636605685.py\"\u001b[0;36m, line \u001b[0;32m1\u001b[0m\n\u001b[0;31m    http://10.255.0.19/drcom/login?callback=dr1003&DDDDD=2018305555%40aust&upass=084617&0MKKey=123456&R1=0&R3=0&R6=0&para=00\u001b[0m\n\u001b[0m         ^\u001b[0m\n\u001b[0;31mSyntaxError\u001b[0m\u001b[0;31m:\u001b[0m invalid syntax\n"
     ]
    }
   ],
   "source": [
    "http://10.255.0.19/drcom/login?callback=dr1003&DDDDD=2017305407%40aust&upass=962406&0MKKey=123456&R1=0&R3=0&R6=0&para=00\n",
    "http://10.255.0.19/drcom/login?callback=dr1003&DDDDD=2017305412%40aust&upass=320361&0MKKey=123456&R1=0&R3=0&R6=0&para=00&v6ip=&v=2715\n",
    "\n",
    "http://10.255.0.19/drcom/login?callback=dr1003&DDDDD=2021201263%40cmcc&upass=0716383&0MKKey=123456&R1=0&R3=0&R6=0&para=00\n",
    "    "
   ]
  },
  {
   "cell_type": "code",
   "execution_count": 82,
   "id": "bad3aa34",
   "metadata": {},
   "outputs": [],
   "source": []
  },
  {
   "cell_type": "code",
   "execution_count": 46,
   "id": "a6ee2ce0",
   "metadata": {},
   "outputs": [
    {
     "name": "stdout",
     "output_type": "stream",
     "text": [
      "['aust', '2018305555'] 084617\n",
      "['aust', '2017305407'] 962406\n"
     ]
    }
   ],
   "source": [
    "for ac, ps in accounts.items():\n",
    "    print(ac.split('_'), ps)"
   ]
  },
  {
   "cell_type": "code",
   "execution_count": 47,
   "id": "b8d8aab7",
   "metadata": {},
   "outputs": [
    {
     "ename": "SyntaxError",
     "evalue": "invalid syntax (1235331270.py, line 1)",
     "output_type": "error",
     "traceback": [
      "\u001b[0;36m  File \u001b[0;32m\"/var/folders/lb/ybt01kn1155_dwfzwfs9l0wh0000gn/T/ipykernel_19831/1235331270.py\"\u001b[0;36m, line \u001b[0;32m1\u001b[0m\n\u001b[0;31m    for\u001b[0m\n\u001b[0m        ^\u001b[0m\n\u001b[0;31mSyntaxError\u001b[0m\u001b[0;31m:\u001b[0m invalid syntax\n"
     ]
    }
   ],
   "source": [
    "\n",
    "while is_connect():\n",
    "    for ac, ps in accounts.items():\n",
    "        url = f\"http://10.255.0.19/drcom/login?callback=dr1003&DDDDD={ac.split('-')[1]}%40{'aust' if ac.split('-')[0] == \"2\" else 'cmcc'}&upass={ps}&0MKKey=123456&R1=0&R3=0&R6=0&para=00\"\n",
    "        print(url)"
   ]
  },
  {
   "cell_type": "code",
   "execution_count": 81,
   "id": "aaa3affc",
   "metadata": {},
   "outputs": [
    {
     "name": "stdout",
     "output_type": "stream",
     "text": [
      "Failed\n",
      "Successed\n"
     ]
    }
   ],
   "source": []
  },
  {
   "cell_type": "code",
   "execution_count": 79,
   "id": "0cc36eca",
   "metadata": {},
   "outputs": [
    {
     "data": {
      "text/plain": [
       "<Response [200]>"
      ]
     },
     "execution_count": 79,
     "metadata": {},
     "output_type": "execute_result"
    }
   ],
   "source": [
    "requests.get(\"http://10.255.0.19/drcom/login?callback=dr1003&DDDDD=2021201263%40cmcc&upass=0716383&0MKKey=123456&R1=0&R3=0&R6=0&para=00\")\n"
   ]
  },
  {
   "cell_type": "code",
   "execution_count": null,
   "id": "d73633fb",
   "metadata": {},
   "outputs": [],
   "source": []
  }
 ],
 "metadata": {
  "kernelspec": {
   "display_name": "Python 3 (ipykernel)",
   "language": "python",
   "name": "python3"
  },
  "language_info": {
   "codemirror_mode": {
    "name": "ipython",
    "version": 3
   },
   "file_extension": ".py",
   "mimetype": "text/x-python",
   "name": "python",
   "nbconvert_exporter": "python",
   "pygments_lexer": "ipython3",
   "version": "3.9.7"
  },
  "toc": {
   "base_numbering": 1,
   "nav_menu": {},
   "number_sections": true,
   "sideBar": true,
   "skip_h1_title": false,
   "title_cell": "Table of Contents",
   "title_sidebar": "Contents",
   "toc_cell": false,
   "toc_position": {},
   "toc_section_display": true,
   "toc_window_display": false
  },
  "varInspector": {
   "cols": {
    "lenName": 16,
    "lenType": 16,
    "lenVar": 40
   },
   "kernels_config": {
    "python": {
     "delete_cmd_postfix": "",
     "delete_cmd_prefix": "del ",
     "library": "var_list.py",
     "varRefreshCmd": "print(var_dic_list())"
    },
    "r": {
     "delete_cmd_postfix": ") ",
     "delete_cmd_prefix": "rm(",
     "library": "var_list.r",
     "varRefreshCmd": "cat(var_dic_list()) "
    }
   },
   "types_to_exclude": [
    "module",
    "function",
    "builtin_function_or_method",
    "instance",
    "_Feature"
   ],
   "window_display": false
  }
 },
 "nbformat": 4,
 "nbformat_minor": 5
}
